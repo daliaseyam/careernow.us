{
  "nbformat": 4,
  "nbformat_minor": 0,
  "metadata": {
    "colab": {
      "provenance": []
    },
    "kernelspec": {
      "name": "python3",
      "display_name": "Python 3"
    },
    "language_info": {
      "name": "python"
    }
  },
  "cells": [
    {
      "cell_type": "markdown",
      "source": [
        "# Functions"
      ],
      "metadata": {
        "id": "bf9ZIhU-_CYL"
      }
    },
    {
      "cell_type": "code",
      "execution_count": null,
      "metadata": {
        "id": "y_NCkiPN9u9_"
      },
      "outputs": [],
      "source": [
        "import math"
      ]
    },
    {
      "cell_type": "code",
      "source": [
        "abs(-6)"
      ],
      "metadata": {
        "colab": {
          "base_uri": "https://localhost:8080/"
        },
        "id": "Mu58JZtEDjop",
        "outputId": "e63afe2c-3d89-4828-8bbd-de3b3954bcee"
      },
      "execution_count": null,
      "outputs": [
        {
          "output_type": "execute_result",
          "data": {
            "text/plain": [
              "6"
            ]
          },
          "metadata": {},
          "execution_count": 7
        }
      ]
    },
    {
      "cell_type": "code",
      "source": [
        "\n",
        "def recipe(indegredients):\n",
        "  print(\"add salt\")\n",
        "  print(\"add pepper\")\n",
        "  print(indegredients)\n",
        "  dish = \"xyz\"\n",
        "  return dish"
      ],
      "metadata": {
        "id": "9wCJDk8IDtBZ"
      },
      "execution_count": null,
      "outputs": []
    },
    {
      "cell_type": "code",
      "source": [
        "output = recipe(\"oil\")\n",
        "print(output)\n",
        "#print(\"out of function\")"
      ],
      "metadata": {
        "colab": {
          "base_uri": "https://localhost:8080/"
        },
        "id": "6YB44NQmEtMP",
        "outputId": "f3d25a62-d8b8-4d9b-9a94-9aa41bdfe4ff"
      },
      "execution_count": null,
      "outputs": [
        {
          "output_type": "stream",
          "name": "stdout",
          "text": [
            "add salt\n",
            "add pepper\n",
            "oil\n",
            "xyz\n"
          ]
        }
      ]
    },
    {
      "cell_type": "code",
      "source": [
        "def my_function1(fname, lname):\n",
        "  print(fname + \" \" + lname)\n",
        "  return 6\n",
        "\n",
        "def my_function():\n",
        "  print(\"I am inside a function\")\n",
        "\n",
        "def add_numbers(num1, num2):\n",
        "    result = num1 + num2\n",
        "    return result\n"
      ],
      "metadata": {
        "id": "2MXc61laFFmW"
      },
      "execution_count": null,
      "outputs": []
    },
    {
      "cell_type": "code",
      "source": [
        "h = add_numbers(66,22)"
      ],
      "metadata": {
        "id": "cDA72prvHsvP"
      },
      "execution_count": null,
      "outputs": []
    },
    {
      "cell_type": "code",
      "source": [
        "print(h)"
      ],
      "metadata": {
        "colab": {
          "base_uri": "https://localhost:8080/"
        },
        "id": "BBFkwv7PITWp",
        "outputId": "8c1ff005-85dd-42b3-95ba-29b549bdd783"
      },
      "execution_count": null,
      "outputs": [
        {
          "output_type": "stream",
          "name": "stdout",
          "text": [
            "88\n"
          ]
        }
      ]
    },
    {
      "cell_type": "code",
      "source": [
        "my_function1(\"Apple\",\"Bee\")"
      ],
      "metadata": {
        "colab": {
          "base_uri": "https://localhost:8080/"
        },
        "id": "25EqsptiI3wF",
        "outputId": "370b7078-c431-4b9d-f62f-91e46bf90c83"
      },
      "execution_count": null,
      "outputs": [
        {
          "output_type": "stream",
          "name": "stdout",
          "text": [
            "Apple Bee\n"
          ]
        },
        {
          "output_type": "execute_result",
          "data": {
            "text/plain": [
              "6"
            ]
          },
          "metadata": {},
          "execution_count": 46
        }
      ]
    },
    {
      "cell_type": "code",
      "source": [
        "my_function1(lname=\"Bee\",fname=\"Apple\")"
      ],
      "metadata": {
        "colab": {
          "base_uri": "https://localhost:8080/"
        },
        "id": "kN9nmJ7IJWw1",
        "outputId": "fbad777b-8b59-450a-ce88-db8cf0cf1144"
      },
      "execution_count": null,
      "outputs": [
        {
          "output_type": "stream",
          "name": "stdout",
          "text": [
            "Apple Bee\n"
          ]
        },
        {
          "output_type": "execute_result",
          "data": {
            "text/plain": [
              "6"
            ]
          },
          "metadata": {},
          "execution_count": 44
        }
      ]
    },
    {
      "cell_type": "code",
      "source": [
        "def print_pattern(n):\n",
        "    if n > 0:\n",
        "        print_pattern(n-1)\n",
        "        print(n)  # Recursive call to print the pattern for n-1\n",
        "        for i in range(1, n+1):\n",
        "            print(\"*\", end=\"\")\n",
        "            print(\"Inside for loop:\",n)\n",
        "        print()\n",
        "\n"
      ],
      "metadata": {
        "id": "J-arev83JgdE"
      },
      "execution_count": null,
      "outputs": []
    },
    {
      "cell_type": "code",
      "source": [
        "print_pattern(3)"
      ],
      "metadata": {
        "colab": {
          "base_uri": "https://localhost:8080/"
        },
        "id": "wyYPnOoJRnqR",
        "outputId": "779829ea-3ae9-4e24-e7c3-fde197f5aae0"
      },
      "execution_count": null,
      "outputs": [
        {
          "output_type": "stream",
          "name": "stdout",
          "text": [
            "1\n",
            "*Inside for loop: 1\n",
            "\n",
            "2\n",
            "*Inside for loop: 2\n",
            "*Inside for loop: 2\n",
            "\n",
            "3\n",
            "*Inside for loop: 3\n",
            "*Inside for loop: 3\n",
            "*Inside for loop: 3\n",
            "\n"
          ]
        }
      ]
    },
    {
      "cell_type": "code",
      "source": [
        "def sum_of_numbers(n):\n",
        "    # Base case\n",
        "    if n == 0:\n",
        "        return 0\n",
        "    else:\n",
        "        # Recursive step\n",
        "        return n + sum_of_numbers(n-1)\n"
      ],
      "metadata": {
        "id": "e2GgjV0mRzay"
      },
      "execution_count": null,
      "outputs": []
    },
    {
      "cell_type": "code",
      "source": [
        "sum_of_numbers(4)"
      ],
      "metadata": {
        "colab": {
          "base_uri": "https://localhost:8080/"
        },
        "id": "tbEiy0aTXI66",
        "outputId": "e276e4dc-ab3f-448f-e894-c47c637096d8"
      },
      "execution_count": null,
      "outputs": [
        {
          "output_type": "execute_result",
          "data": {
            "text/plain": [
              "10"
            ]
          },
          "metadata": {},
          "execution_count": 80
        }
      ]
    },
    {
      "cell_type": "code",
      "source": [
        "my_function1(lname=\"Bee\",fname=\"Apple\")"
      ],
      "metadata": {
        "id": "IMImT3_jXLPe"
      },
      "execution_count": null,
      "outputs": []
    },
    {
      "cell_type": "markdown",
      "source": [
        "# Strings"
      ],
      "metadata": {
        "id": "RgjcBqYdI103"
      }
    },
    {
      "cell_type": "markdown",
      "source": [
        "• Sequence of characters\n",
        "• Strings are immutable"
      ],
      "metadata": {
        "id": "eslZxxK4JR70"
      }
    },
    {
      "cell_type": "code",
      "source": [
        "str1 = \"Hello\""
      ],
      "metadata": {
        "id": "-ArYjt_eaHhy"
      },
      "execution_count": 4,
      "outputs": []
    },
    {
      "cell_type": "code",
      "source": [
        "str2 = 'World'"
      ],
      "metadata": {
        "id": "A8n26S5lLMVq"
      },
      "execution_count": 3,
      "outputs": []
    },
    {
      "cell_type": "markdown",
      "source": [
        "Next line"
      ],
      "metadata": {
        "id": "JyLC13w6LqeP"
      }
    },
    {
      "cell_type": "code",
      "source": [
        "\"\\n\""
      ],
      "metadata": {
        "colab": {
          "base_uri": "https://localhost:8080/",
          "height": 35
        },
        "id": "YF7yjU1dLOf0",
        "outputId": "dd203939-3eb4-47cb-c43e-7d2aced0975a"
      },
      "execution_count": 7,
      "outputs": [
        {
          "output_type": "execute_result",
          "data": {
            "text/plain": [
              "'\\n'"
            ],
            "application/vnd.google.colaboratory.intrinsic+json": {
              "type": "string"
            }
          },
          "metadata": {},
          "execution_count": 7
        }
      ]
    },
    {
      "cell_type": "code",
      "source": [
        "print(str1,\"\\n\",str2)"
      ],
      "metadata": {
        "colab": {
          "base_uri": "https://localhost:8080/"
        },
        "id": "9PtpZp1CLeou",
        "outputId": "ba35ffb7-4ce9-47eb-fe60-1042cbcaf4ec"
      },
      "execution_count": 9,
      "outputs": [
        {
          "output_type": "stream",
          "name": "stdout",
          "text": [
            "Hello \n",
            " World\n"
          ]
        }
      ]
    },
    {
      "cell_type": "markdown",
      "source": [
        "Concatenation of Strings"
      ],
      "metadata": {
        "id": "BVqSHSJnMmCK"
      }
    },
    {
      "cell_type": "code",
      "source": [
        "print(str1+\"! \"+str2)"
      ],
      "metadata": {
        "colab": {
          "base_uri": "https://localhost:8080/"
        },
        "id": "cS1PqDOeLlQ6",
        "outputId": "4a56c4e6-32ba-4fde-9322-b892b0470807"
      },
      "execution_count": 11,
      "outputs": [
        {
          "output_type": "stream",
          "name": "stdout",
          "text": [
            "Hello! World\n"
          ]
        }
      ]
    },
    {
      "cell_type": "markdown",
      "source": [
        "Printing a string multiple times"
      ],
      "metadata": {
        "id": "dVRV6xPLMjXt"
      }
    },
    {
      "cell_type": "code",
      "source": [
        "print(str1 * 3)"
      ],
      "metadata": {
        "colab": {
          "base_uri": "https://localhost:8080/"
        },
        "id": "JbGiMV_rLzrH",
        "outputId": "88f6d263-b48e-48e9-f777-73f50eda540f"
      },
      "execution_count": 15,
      "outputs": [
        {
          "output_type": "stream",
          "name": "stdout",
          "text": [
            "HelloHelloHello\n"
          ]
        }
      ]
    },
    {
      "cell_type": "markdown",
      "source": [
        "String Index"
      ],
      "metadata": {
        "id": "TIswimxUMh6t"
      }
    },
    {
      "cell_type": "code",
      "source": [
        "print(str1[1])"
      ],
      "metadata": {
        "colab": {
          "base_uri": "https://localhost:8080/"
        },
        "id": "E4XSayt-MK1U",
        "outputId": "d9acbdeb-766c-4546-d6c3-bade998d1134"
      },
      "execution_count": 16,
      "outputs": [
        {
          "output_type": "stream",
          "name": "stdout",
          "text": [
            "e\n"
          ]
        }
      ]
    },
    {
      "cell_type": "markdown",
      "source": [
        "https://www.w3schools.com/python/python_strings_methods.asp"
      ],
      "metadata": {
        "id": "c0ZNCoMxM9eg"
      }
    },
    {
      "cell_type": "markdown",
      "source": [
        "String Functions"
      ],
      "metadata": {
        "id": "TjCgOg9HMw9r"
      }
    },
    {
      "cell_type": "code",
      "source": [
        "x = str1.upper()\n",
        "print(x)\n"
      ],
      "metadata": {
        "colab": {
          "base_uri": "https://localhost:8080/"
        },
        "id": "gyuDjYLTMfwM",
        "outputId": "fe6e9b9e-97a2-472c-d875-090b4fb97de1"
      },
      "execution_count": 20,
      "outputs": [
        {
          "output_type": "stream",
          "name": "stdout",
          "text": [
            "HELLO\n"
          ]
        }
      ]
    },
    {
      "cell_type": "code",
      "source": [
        "str1.startswith('e')"
      ],
      "metadata": {
        "colab": {
          "base_uri": "https://localhost:8080/"
        },
        "id": "ObH1kMkRNBK0",
        "outputId": "f887526b-dd58-4e25-b117-7e5838bafd4c"
      },
      "execution_count": 22,
      "outputs": [
        {
          "output_type": "execute_result",
          "data": {
            "text/plain": [
              "False"
            ]
          },
          "metadata": {},
          "execution_count": 22
        }
      ]
    },
    {
      "cell_type": "code",
      "source": [
        "str1.startswith('H')"
      ],
      "metadata": {
        "colab": {
          "base_uri": "https://localhost:8080/"
        },
        "id": "qv16wY_-Nf2_",
        "outputId": "53b0c798-1360-41f4-8790-bb02cc4ab1be"
      },
      "execution_count": 24,
      "outputs": [
        {
          "output_type": "execute_result",
          "data": {
            "text/plain": [
              "True"
            ]
          },
          "metadata": {},
          "execution_count": 24
        }
      ]
    },
    {
      "cell_type": "code",
      "source": [
        "len(str1)"
      ],
      "metadata": {
        "colab": {
          "base_uri": "https://localhost:8080/"
        },
        "id": "LkdX0SmyNjU8",
        "outputId": "fe039bc6-9e90-4abd-e7e7-0a602bc1c1e9"
      },
      "execution_count": 25,
      "outputs": [
        {
          "output_type": "execute_result",
          "data": {
            "text/plain": [
              "5"
            ]
          },
          "metadata": {},
          "execution_count": 25
        }
      ]
    },
    {
      "cell_type": "code",
      "source": [
        "str3 = \" Follow Along \""
      ],
      "metadata": {
        "id": "qRuzdxOoN2pI"
      },
      "execution_count": 34,
      "outputs": []
    },
    {
      "cell_type": "code",
      "source": [
        "str4 = str3.lstrip()\n",
        "str5 = str3.rstrip()"
      ],
      "metadata": {
        "id": "-d2rx386OMft"
      },
      "execution_count": 35,
      "outputs": []
    },
    {
      "cell_type": "code",
      "source": [
        "print (str3)"
      ],
      "metadata": {
        "colab": {
          "base_uri": "https://localhost:8080/"
        },
        "id": "msJQRSkdOYJq",
        "outputId": "a8060a37-2b77-460e-bd07-3ecc019a14f6"
      },
      "execution_count": 36,
      "outputs": [
        {
          "output_type": "stream",
          "name": "stdout",
          "text": [
            " Follow Along \n"
          ]
        }
      ]
    },
    {
      "cell_type": "code",
      "source": [
        "print(str4)"
      ],
      "metadata": {
        "colab": {
          "base_uri": "https://localhost:8080/"
        },
        "id": "JDsewEBPO7k5",
        "outputId": "45bc9a17-e864-4629-edfc-f6069a56a01c"
      },
      "execution_count": 37,
      "outputs": [
        {
          "output_type": "stream",
          "name": "stdout",
          "text": [
            "Follow Along \n"
          ]
        }
      ]
    },
    {
      "cell_type": "code",
      "source": [
        "print(str5)"
      ],
      "metadata": {
        "colab": {
          "base_uri": "https://localhost:8080/"
        },
        "id": "QDA-N7xbO9G0",
        "outputId": "9a98c81b-8355-4c95-dd7b-1f59aac814b8"
      },
      "execution_count": 38,
      "outputs": [
        {
          "output_type": "stream",
          "name": "stdout",
          "text": [
            " Follow Along\n"
          ]
        }
      ]
    },
    {
      "cell_type": "code",
      "source": [
        "print(len(str3))"
      ],
      "metadata": {
        "colab": {
          "base_uri": "https://localhost:8080/"
        },
        "id": "_gmoNdDPO_J2",
        "outputId": "546e29ec-7b68-4a63-b5f1-535d7e4d634d"
      },
      "execution_count": 39,
      "outputs": [
        {
          "output_type": "stream",
          "name": "stdout",
          "text": [
            "14\n"
          ]
        }
      ]
    },
    {
      "cell_type": "code",
      "source": [
        "print(len(str4))"
      ],
      "metadata": {
        "colab": {
          "base_uri": "https://localhost:8080/"
        },
        "id": "5g5Xu1bvPCVo",
        "outputId": "00c5cb8e-f1f0-4a48-b748-35c39184037e"
      },
      "execution_count": 40,
      "outputs": [
        {
          "output_type": "stream",
          "name": "stdout",
          "text": [
            "13\n"
          ]
        }
      ]
    },
    {
      "cell_type": "code",
      "source": [
        "print(len(str5))"
      ],
      "metadata": {
        "colab": {
          "base_uri": "https://localhost:8080/"
        },
        "id": "Kjp7dDRaPHY3",
        "outputId": "98f1e116-50df-4a24-c4d5-72b6d6b4b541"
      },
      "execution_count": 41,
      "outputs": [
        {
          "output_type": "stream",
          "name": "stdout",
          "text": [
            "13\n"
          ]
        }
      ]
    },
    {
      "cell_type": "code",
      "source": [
        "str6=str4.rstrip()\n",
        "len(str6)"
      ],
      "metadata": {
        "colab": {
          "base_uri": "https://localhost:8080/"
        },
        "id": "YRQTBAmMPMZG",
        "outputId": "6619477f-80b9-402e-e179-043749244308"
      },
      "execution_count": 43,
      "outputs": [
        {
          "output_type": "execute_result",
          "data": {
            "text/plain": [
              "12"
            ]
          },
          "metadata": {},
          "execution_count": 43
        }
      ]
    },
    {
      "cell_type": "code",
      "source": [
        "str7 = \"iamabigstring\""
      ],
      "metadata": {
        "id": "3bhBL39OPbiL"
      },
      "execution_count": 44,
      "outputs": []
    },
    {
      "cell_type": "code",
      "source": [
        "str7.find(\"abig\")"
      ],
      "metadata": {
        "colab": {
          "base_uri": "https://localhost:8080/"
        },
        "id": "mJ49dUdEPvIw",
        "outputId": "94162b7e-be25-459c-d7d2-680e97757535"
      },
      "execution_count": 45,
      "outputs": [
        {
          "output_type": "execute_result",
          "data": {
            "text/plain": [
              "3"
            ]
          },
          "metadata": {},
          "execution_count": 45
        }
      ]
    },
    {
      "cell_type": "code",
      "source": [
        "str7.find(\"adog\")"
      ],
      "metadata": {
        "colab": {
          "base_uri": "https://localhost:8080/"
        },
        "id": "jy2aVRVuPzZx",
        "outputId": "f9dcd96f-7754-4d32-dd8d-c74946ca6f66"
      },
      "execution_count": 46,
      "outputs": [
        {
          "output_type": "execute_result",
          "data": {
            "text/plain": [
              "-1"
            ]
          },
          "metadata": {},
          "execution_count": 46
        }
      ]
    },
    {
      "cell_type": "code",
      "source": [
        "str8 = \"Acapella is type of a music. Acapella mostly uses acoustic.\""
      ],
      "metadata": {
        "id": "SujokT-dP3Jv"
      },
      "execution_count": 47,
      "outputs": []
    },
    {
      "cell_type": "code",
      "source": [
        "str8.count(\"Acapella\")"
      ],
      "metadata": {
        "colab": {
          "base_uri": "https://localhost:8080/"
        },
        "id": "YKGIN5ezQEYA",
        "outputId": "4ce8de09-b150-41c4-ff08-f5af1d865366"
      },
      "execution_count": 49,
      "outputs": [
        {
          "output_type": "execute_result",
          "data": {
            "text/plain": [
              "2"
            ]
          },
          "metadata": {},
          "execution_count": 49
        }
      ]
    },
    {
      "cell_type": "code",
      "source": [
        "str9 = str8.replace(\"Acapella\",\"Jazz\")"
      ],
      "metadata": {
        "id": "pGwfLWdNQIYW"
      },
      "execution_count": 50,
      "outputs": []
    },
    {
      "cell_type": "code",
      "source": [
        "print(str9)"
      ],
      "metadata": {
        "colab": {
          "base_uri": "https://localhost:8080/"
        },
        "id": "6u43PRyUQYwz",
        "outputId": "03c1d39b-cc39-4593-d446-f952d9a56f0d"
      },
      "execution_count": 51,
      "outputs": [
        {
          "output_type": "stream",
          "name": "stdout",
          "text": [
            "Jazz is type of a music. Jazz mostly uses acoustic.\n"
          ]
        }
      ]
    },
    {
      "cell_type": "code",
      "source": [
        "str10 = str3.replace(\" \",\"\")"
      ],
      "metadata": {
        "id": "vhTc_G2lQaC1"
      },
      "execution_count": 52,
      "outputs": []
    },
    {
      "cell_type": "code",
      "source": [
        "print(str10)"
      ],
      "metadata": {
        "colab": {
          "base_uri": "https://localhost:8080/"
        },
        "id": "hDcrUpVBReTa",
        "outputId": "6bd5576c-69ab-4632-edcb-e44437f752e2"
      },
      "execution_count": 53,
      "outputs": [
        {
          "output_type": "stream",
          "name": "stdout",
          "text": [
            "FollowAlong\n"
          ]
        }
      ]
    },
    {
      "cell_type": "code",
      "source": [
        "print(len(str10))"
      ],
      "metadata": {
        "colab": {
          "base_uri": "https://localhost:8080/"
        },
        "id": "Zu-8aZxARfsq",
        "outputId": "6c5eed5a-ad8b-4cad-b369-adf2117527eb"
      },
      "execution_count": 54,
      "outputs": [
        {
          "output_type": "stream",
          "name": "stdout",
          "text": [
            "11\n"
          ]
        }
      ]
    },
    {
      "cell_type": "code",
      "source": [
        "str10.index('A')"
      ],
      "metadata": {
        "colab": {
          "base_uri": "https://localhost:8080/"
        },
        "id": "ZZj1dGVdRiRz",
        "outputId": "60cadd06-b76e-4645-f044-0042f2e2a167"
      },
      "execution_count": 56,
      "outputs": [
        {
          "output_type": "execute_result",
          "data": {
            "text/plain": [
              "6"
            ]
          },
          "metadata": {},
          "execution_count": 56
        }
      ]
    },
    {
      "cell_type": "markdown",
      "source": [
        "Slicing"
      ],
      "metadata": {
        "id": "eNarBgC4SKdL"
      }
    },
    {
      "cell_type": "code",
      "source": [
        "sub_str1 = str7[:7]\n",
        "sub_str2 = str7[7:]"
      ],
      "metadata": {
        "id": "OUoC26sIR1nq"
      },
      "execution_count": 68,
      "outputs": []
    },
    {
      "cell_type": "code",
      "source": [
        "print(sub_str1)"
      ],
      "metadata": {
        "colab": {
          "base_uri": "https://localhost:8080/"
        },
        "id": "BmP8UfLtScmi",
        "outputId": "3c073c74-e8fa-44ab-bdc9-d84f272d3e99"
      },
      "execution_count": 69,
      "outputs": [
        {
          "output_type": "stream",
          "name": "stdout",
          "text": [
            "iamabig\n"
          ]
        }
      ]
    },
    {
      "cell_type": "code",
      "source": [
        "sub_test = str[7:0]"
      ],
      "metadata": {
        "id": "D7LMj5vHSkDy"
      },
      "execution_count": 64,
      "outputs": []
    },
    {
      "cell_type": "code",
      "source": [
        "print(sub_test)"
      ],
      "metadata": {
        "colab": {
          "base_uri": "https://localhost:8080/"
        },
        "id": "OZqJJ5U_S4Zd",
        "outputId": "3417ef7b-9e35-4b18-fad4-e684fc682f36"
      },
      "execution_count": 65,
      "outputs": [
        {
          "output_type": "stream",
          "name": "stdout",
          "text": [
            "\n"
          ]
        }
      ]
    },
    {
      "cell_type": "code",
      "source": [
        "original_string = \"Python is boring!\""
      ],
      "metadata": {
        "id": "pBkyLxPIS6Gd"
      },
      "execution_count": 66,
      "outputs": []
    },
    {
      "cell_type": "code",
      "source": [
        "original_string[12:16]"
      ],
      "metadata": {
        "colab": {
          "base_uri": "https://localhost:8080/",
          "height": 35
        },
        "id": "olpZzEcTTJx0",
        "outputId": "354f9a1e-791d-4e05-9d25-a8e5d8ae4ceb"
      },
      "execution_count": 67,
      "outputs": [
        {
          "output_type": "execute_result",
          "data": {
            "text/plain": [
              "'ring'"
            ],
            "application/vnd.google.colaboratory.intrinsic+json": {
              "type": "string"
            }
          },
          "metadata": {},
          "execution_count": 67
        }
      ]
    },
    {
      "cell_type": "markdown",
      "source": [
        "https://realpython.com/python-string-formatting/"
      ],
      "metadata": {
        "id": "WOkfCbueUx5S"
      }
    },
    {
      "cell_type": "code",
      "source": [
        "name = input()"
      ],
      "metadata": {
        "colab": {
          "base_uri": "https://localhost:8080/"
        },
        "id": "-yRhrVRMWAtA",
        "outputId": "73730991-8009-4303-cfc2-26dbe1955271"
      },
      "execution_count": 72,
      "outputs": [
        {
          "name": "stdout",
          "output_type": "stream",
          "text": [
            "Dali\n"
          ]
        }
      ]
    },
    {
      "cell_type": "code",
      "source": [
        "Str_greet = \"Hello, %s\" % name"
      ],
      "metadata": {
        "id": "RxRUYI4LVkJk"
      },
      "execution_count": 73,
      "outputs": []
    },
    {
      "cell_type": "code",
      "source": [
        "print (Str_greet)"
      ],
      "metadata": {
        "colab": {
          "base_uri": "https://localhost:8080/"
        },
        "id": "8K2XwmB2V8bs",
        "outputId": "d515cc42-fa00-40ea-aa86-824f74f9d80c"
      },
      "execution_count": 74,
      "outputs": [
        {
          "output_type": "stream",
          "name": "stdout",
          "text": [
            "Hello, Dali\n"
          ]
        }
      ]
    },
    {
      "cell_type": "code",
      "source": [
        "fname = \"Ada\"\n",
        "lname = \"Lovelace\""
      ],
      "metadata": {
        "id": "QcTW4QCYWTyN"
      },
      "execution_count": 87,
      "outputs": []
    },
    {
      "cell_type": "code",
      "source": [
        "Str_greet2 = \"Hello, %s %s !\" % (fname,lname)"
      ],
      "metadata": {
        "id": "PP8p_BAeWI6q"
      },
      "execution_count": 90,
      "outputs": []
    },
    {
      "cell_type": "code",
      "source": [
        "print(Str_greet2)"
      ],
      "metadata": {
        "colab": {
          "base_uri": "https://localhost:8080/"
        },
        "id": "hEW3NdWEWYQV",
        "outputId": "d99b0f3f-7089-41ae-8294-2d7d736b1ccc"
      },
      "execution_count": 91,
      "outputs": [
        {
          "output_type": "stream",
          "name": "stdout",
          "text": [
            "Hello, Ada Lovelace !\n"
          ]
        }
      ]
    },
    {
      "cell_type": "code",
      "source": [
        "\"Hello, {}\".format(name)"
      ],
      "metadata": {
        "colab": {
          "base_uri": "https://localhost:8080/",
          "height": 35
        },
        "id": "bmN0htlcW3N8",
        "outputId": "0d8fb9d2-3e37-497a-8960-6da7b8c5cc03"
      },
      "execution_count": 92,
      "outputs": [
        {
          "output_type": "execute_result",
          "data": {
            "text/plain": [
              "'Hello, Dali'"
            ],
            "application/vnd.google.colaboratory.intrinsic+json": {
              "type": "string"
            }
          },
          "metadata": {},
          "execution_count": 92
        }
      ]
    },
    {
      "cell_type": "markdown",
      "source": [
        "fstrings"
      ],
      "metadata": {
        "id": "AAEE_yP1YDEM"
      }
    },
    {
      "cell_type": "code",
      "source": [
        "x= 3\n",
        "y = 9\n",
        "print(f'three multipled nine is {x * y} which will be twenty seven')"
      ],
      "metadata": {
        "colab": {
          "base_uri": "https://localhost:8080/"
        },
        "id": "soqrvF6iX-AJ",
        "outputId": "08be75d6-56a4-40cb-f222-0668aeda85cb"
      },
      "execution_count": 93,
      "outputs": [
        {
          "output_type": "stream",
          "name": "stdout",
          "text": [
            "three multipled nine is 27 which will be twenty seven\n"
          ]
        }
      ]
    },
    {
      "cell_type": "markdown",
      "source": [
        "take value of length and width of a rectangle from a user.Print a string that says The area of a rectangle of length - and width - is -."
      ],
      "metadata": {
        "id": "7hEq-MEgZGmj"
      }
    },
    {
      "cell_type": "code",
      "source": [
        "\n",
        "length = 10\n",
        "width = 5\n",
        "\n",
        "area = length * width\n",
        "\n",
        "result_message = f\"The area of a rectangle with length {length} and width {width} is {area} square units.\"\n",
        "\n",
        "print(result_message)\n"
      ],
      "metadata": {
        "colab": {
          "base_uri": "https://localhost:8080/"
        },
        "id": "D8-ZXbQBX2ij",
        "outputId": "87ec46fa-8b2a-4f82-e89a-0005c60291a3"
      },
      "execution_count": 95,
      "outputs": [
        {
          "output_type": "stream",
          "name": "stdout",
          "text": [
            "The area of a rectangle with length 10 and width 5 is 50 square units.\n"
          ]
        }
      ]
    },
    {
      "cell_type": "code",
      "source": [],
      "metadata": {
        "id": "cS8cx_fBazEj"
      },
      "execution_count": null,
      "outputs": []
    }
  ]
}